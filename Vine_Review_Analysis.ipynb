{
  "nbformat": 4,
  "nbformat_minor": 0,
  "metadata": {
    "colab": {
      "name": "Vine_Review_Analysis.ipynb",
      "provenance": [],
      "authorship_tag": "ABX9TyOiZFDLEPxL4xsMVJRKx/Ed",
      "include_colab_link": true
    },
    "kernelspec": {
      "name": "python3",
      "display_name": "Python 3"
    }
  },
  "cells": [
    {
      "cell_type": "markdown",
      "metadata": {
        "id": "view-in-github",
        "colab_type": "text"
      },
      "source": [
        "<a href=\"https://colab.research.google.com/github/daniduce/Amazon_Vine_Analysis/blob/main/Vine_Review_Analysis.ipynb\" target=\"_parent\"><img src=\"https://colab.research.google.com/assets/colab-badge.svg\" alt=\"Open In Colab\"/></a>"
      ]
    },
    {
      "cell_type": "code",
      "metadata": {
        "colab": {
          "base_uri": "https://localhost:8080/"
        },
        "id": "0cM7NgprEfY_",
        "outputId": "06c0cfb8-a710-4bfe-dda6-f3bfad6a6ae8"
      },
      "source": [
        "import os\n",
        "# Find the latest version of spark 2.0  from http://www-us.apache.org/dist/spark/ and enter as the spark version\n",
        "# For example:\n",
        "# spark_version = 'spark-3.0.0'\n",
        "spark_version = 'spark-3.0.1'\n",
        "os.environ['SPARK_VERSION']=spark_version\n",
        "\n",
        "# Install Spark and Java\n",
        "!apt-get update\n",
        "!apt-get install openjdk-11-jdk-headless -qq > /dev/null\n",
        "!wget -q http://www-us.apache.org/dist/spark/$SPARK_VERSION/$SPARK_VERSION-bin-hadoop2.7.tgz\n",
        "!tar xf $SPARK_VERSION-bin-hadoop2.7.tgz\n",
        "!pip install -q findspark\n",
        "\n",
        "# Set Environment Variables\n",
        "import os\n",
        "os.environ[\"JAVA_HOME\"] = \"/usr/lib/jvm/java-11-openjdk-amd64\"\n",
        "os.environ[\"SPARK_HOME\"] = f\"/content/{spark_version}-bin-hadoop2.7\"\n",
        "\n",
        "# Start a SparkSession\n",
        "import findspark\n",
        "findspark.init()"
      ],
      "execution_count": 1,
      "outputs": [
        {
          "output_type": "stream",
          "text": [
            "\r0% [Working]\r            \rGet:1 http://ppa.launchpad.net/c2d4u.team/c2d4u4.0+/ubuntu bionic InRelease [15.9 kB]\n",
            "\r0% [Waiting for headers] [Connecting to security.ubuntu.com (91.189.91.39)] [Co\r                                                                               \rHit:2 http://archive.ubuntu.com/ubuntu bionic InRelease\n",
            "\r0% [Connecting to security.ubuntu.com (91.189.91.39)] [Connected to cloud.r-pro\r                                                                               \rGet:3 http://archive.ubuntu.com/ubuntu bionic-updates InRelease [88.7 kB]\n",
            "\r0% [3 InRelease 46.0 kB/88.7 kB 52%] [Connecting to security.ubuntu.com (91.189\r0% [2 InRelease gpgv 242 kB] [3 InRelease 47.5 kB/88.7 kB 54%] [Connecting to s\r                                                                               \rHit:4 http://ppa.launchpad.net/cran/libgit2/ubuntu bionic InRelease\n",
            "\r0% [2 InRelease gpgv 242 kB] [3 InRelease 47.5 kB/88.7 kB 54%] [Connecting to s\r0% [2 InRelease gpgv 242 kB] [Waiting for headers] [Connecting to security.ubun\r                                                                               \rGet:5 https://cloud.r-project.org/bin/linux/ubuntu bionic-cran40/ InRelease [3,626 B]\n",
            "\r0% [2 InRelease gpgv 242 kB] [Waiting for headers] [Connecting to security.ubun\r0% [2 InRelease gpgv 242 kB] [Waiting for headers] [Connecting to security.ubun\r                                                                               \rGet:6 http://archive.ubuntu.com/ubuntu bionic-backports InRelease [74.6 kB]\n",
            "\r0% [2 InRelease gpgv 242 kB] [6 InRelease 8,393 B/74.6 kB 11%] [Connecting to s\r0% [2 InRelease gpgv 242 kB] [Connecting to security.ubuntu.com (91.189.91.39)]\r                                                                               \rHit:7 http://ppa.launchpad.net/graphics-drivers/ppa/ubuntu bionic InRelease\n",
            "Get:8 http://security.ubuntu.com/ubuntu bionic-security InRelease [88.7 kB]\n",
            "Ign:9 https://developer.download.nvidia.com/compute/cuda/repos/ubuntu1804/x86_64  InRelease\n",
            "Ign:10 https://developer.download.nvidia.com/compute/machine-learning/repos/ubuntu1804/x86_64  InRelease\n",
            "Hit:11 https://developer.download.nvidia.com/compute/cuda/repos/ubuntu1804/x86_64  Release\n",
            "Hit:12 https://developer.download.nvidia.com/compute/machine-learning/repos/ubuntu1804/x86_64  Release\n",
            "Get:13 http://ppa.launchpad.net/c2d4u.team/c2d4u4.0+/ubuntu bionic/main Sources [1,732 kB]\n",
            "Get:14 http://ppa.launchpad.net/c2d4u.team/c2d4u4.0+/ubuntu bionic/main amd64 Packages [886 kB]\n",
            "Get:15 http://archive.ubuntu.com/ubuntu bionic-updates/main amd64 Packages [2,360 kB]\n",
            "Get:16 http://archive.ubuntu.com/ubuntu bionic-updates/universe amd64 Packages [2,162 kB]\n",
            "Get:17 https://cloud.r-project.org/bin/linux/ubuntu bionic-cran40/ Packages [45.4 kB]\n",
            "Get:18 http://security.ubuntu.com/ubuntu bionic-security/universe amd64 Packages [1,391 kB]\n",
            "Get:21 http://security.ubuntu.com/ubuntu bionic-security/main amd64 Packages [1,929 kB]\n",
            "Fetched 10.8 MB in 3s (4,133 kB/s)\n",
            "Reading package lists... Done\n"
          ],
          "name": "stdout"
        }
      ]
    },
    {
      "cell_type": "code",
      "metadata": {
        "colab": {
          "base_uri": "https://localhost:8080/"
        },
        "id": "ZdTTVn63LFiw",
        "outputId": "9e8c650b-8769-4673-efcf-ee67465bf650"
      },
      "source": [
        "# Download the Postgres driver that will allow Spark to interact with Postgres.\n",
        "!wget https://jdbc.postgresql.org/download/postgresql-42.2.16.jar"
      ],
      "execution_count": 2,
      "outputs": [
        {
          "output_type": "stream",
          "text": [
            "--2021-02-15 23:15:34--  https://jdbc.postgresql.org/download/postgresql-42.2.16.jar\n",
            "Resolving jdbc.postgresql.org (jdbc.postgresql.org)... 72.32.157.228, 2001:4800:3e1:1::228\n",
            "Connecting to jdbc.postgresql.org (jdbc.postgresql.org)|72.32.157.228|:443... connected.\n",
            "HTTP request sent, awaiting response... 200 OK\n",
            "Length: 1002883 (979K) [application/java-archive]\n",
            "Saving to: ‘postgresql-42.2.16.jar’\n",
            "\n",
            "postgresql-42.2.16. 100%[===================>] 979.38K  1.66MB/s    in 0.6s    \n",
            "\n",
            "2021-02-15 23:15:35 (1.66 MB/s) - ‘postgresql-42.2.16.jar’ saved [1002883/1002883]\n",
            "\n"
          ],
          "name": "stdout"
        }
      ]
    },
    {
      "cell_type": "code",
      "metadata": {
        "id": "ftHe4MvxIc2b"
      },
      "source": [
        "from pyspark.sql import SparkSession\n",
        "spark = SparkSession.builder.appName(\"BigData-Challenge\").config(\"spark.driver.extraClassPath\",\"/content/postgresql-42.2.16.jar\").getOrCreate()\n",
        "from pyspark.ml.feature import Tokenizer"
      ],
      "execution_count": 3,
      "outputs": []
    },
    {
      "cell_type": "code",
      "metadata": {
        "colab": {
          "base_uri": "https://localhost:8080/"
        },
        "id": "fFC-3yxjIhH4",
        "outputId": "1c93d251-e2ea-40bc-b9be-a2f94fae4fec"
      },
      "source": [
        "from pyspark import SparkFiles\n",
        "url = \"https://s3.amazonaws.com/amazon-reviews-pds/tsv/amazon_reviews_us_Digital_Music_Purchase_v1_00.tsv.gz\"\n",
        "spark.sparkContext.addFile(url)\n",
        "df = spark.read.option(\"encoding\", \"UTF-8\").csv(SparkFiles.get(\"\"), sep=\"\\t\", header=True, inferSchema=True)\n",
        "df.show()"
      ],
      "execution_count": 4,
      "outputs": [
        {
          "output_type": "stream",
          "text": [
            "+-----------+-----------+--------------+----------+--------------+--------------------+--------------------+-----------+-------------+-----------+----+-----------------+--------------------+--------------------+-----------+\n",
            "|marketplace|customer_id|     review_id|product_id|product_parent|       product_title|    product_category|star_rating|helpful_votes|total_votes|vine|verified_purchase|     review_headline|         review_body|review_date|\n",
            "+-----------+-----------+--------------+----------+--------------+--------------------+--------------------+-----------+-------------+-----------+----+-----------------+--------------------+--------------------+-----------+\n",
            "|         US|   10293599|R14LVB34Z2Z53I|B000YMOQZY|     262935067|Knockin' On Heave...|Digital_Music_Pur...|          5|            0|          0|   N|                Y|           favorites|Great  rendition....| 2015-08-31|\n",
            "|         US|    6087195|R2M0R9CWPC82LT|B00ISAEC80|     452318038|            Flawless|Digital_Music_Pur...|          5|            0|          0|   N|                Y|          Five Stars|A good music to l...| 2015-08-31|\n",
            "|         US|   33717063| RQNQI2R3BM52A|B00VBB6AVU|     675969129|    Scandal of Grace|Digital_Music_Pur...|          4|            0|          0|   N|                Y|                Good|Not as good as th...| 2015-08-31|\n",
            "|         US|   14948020| RTUIX1135HUAB|B008A5POJO|     282925893|  I Surrender (Live)|Digital_Music_Pur...|          5|            0|          0|   N|                Y|Wonderful lyrics!...|Time to worship a...| 2015-08-31|\n",
            "|         US|   21694522| RE3QSAT8TL010|B014CW2RN4|     109077793|We Are Young (Jer...|Digital_Music_Pur...|          4|            0|          0|   N|                Y|Hot remix but too...|So this should be...| 2015-08-31|\n",
            "|         US|   14948020|R14TN65IY0NUOD|B00DRA3EOY|     959245080|        Lord, I Live|Digital_Music_Pur...|          5|            0|          0|   N|                Y|          Five Stars|Clint Brown is an...| 2015-08-31|\n",
            "|         US|   20031966|R3LIF8MCNH1ODF|B009G3U0PW|     762436916|  I'll Never Be Free|Digital_Music_Pur...|          5|            0|          0|   N|                Y|\"I'll never be fr...|LaVerne Butler is...| 2015-08-31|\n",
            "|         US|   12223745|R33X0DGA4PPQ3L|B013XBYQOS|     137980344|    All of the Stars|Digital_Music_Pur...|          5|            3|          3|   N|                N| long awaited treat!|For some reason I...| 2015-08-31|\n",
            "|         US|   30231876|R2DJJP7DQRT1ZW|B003L5H25W|     165995375|Exile On Main Str...|Digital_Music_Pur...|          5|            0|          1|   N|                Y|          Five Stars|The Stones at the...| 2015-08-31|\n",
            "|         US|   51714365|R2A8XDXW5XOT4H|B00136NVH4|     227508666|     Bat Out Of Hell|Digital_Music_Pur...|          5|            0|          0|   N|                Y|    Transcends Time.|    Simply the best.| 2015-08-31|\n",
            "|         US|   37216001|R3MJK3L7ER61TT|B0030AKPQ6|     164096943|Stronger Than Her...|Digital_Music_Pur...|          5|            0|          0|   N|                N|I Love The Flirta...|A very early hit ...| 2015-08-31|\n",
            "|         US|   49207156|R38Z7XMCVDR0R5|B014EQE0V0|     714368268|You Hold It All (...|Digital_Music_Pur...|          5|            1|          1|   N|                Y|          Five Stars|Inspired by this ...| 2015-08-31|\n",
            "|         US|    2472364|R3FFESBQXPR7S6|B00USW4ZVU|      50310906|   Pressure - Single|Digital_Music_Pur...|          4|            0|          0|   N|                Y|Talented new gosp...|Great new artist....| 2015-08-31|\n",
            "|         US|   22612468|R3QO6Z942CKH34|B00ZZDJAX0|     162295903|What Are The Chan...|Digital_Music_Pur...|          5|            1|          1|   N|                Y|        Awesome song|Great song off th...| 2015-08-31|\n",
            "|         US|    2254795|R297119MDWMG9P|B014DIWONU|      44838453|Beauty Behind The...|Digital_Music_Pur...|          5|            0|          0|   N|                Y|I love every song...|The weeknd is a m...| 2015-08-31|\n",
            "|         US|   12408664| R7EJRSXIXMLIY|B005DPTQNE|     454271984|It's The Huck-A-B...|Digital_Music_Pur...|          5|            0|          0|   N|                Y|          Five Stars|       Sounds great!| 2015-08-31|\n",
            "|         US|   36236254|R2EBGPZD0B3TSV|B004LI9ATO|     519024911|  Two Purple Shadows|Digital_Music_Pur...|          5|            0|          0|   N|                N|An oldie,,, but i...|An oldie , , , bu...| 2015-08-31|\n",
            "|         US|   10456004|R229VSSFBNB90C|B00984QCM4|     647155979|         Consolation|Digital_Music_Pur...|          5|            0|          0|   N|                Y|          Five Stars|               great| 2015-08-31|\n",
            "|         US|   16822806|R12YCDYTDBJH3X|B00ZKCAK4O|     346522639|One Man Army [Exp...|Digital_Music_Pur...|          5|            0|          0|   N|                Y|One Man Army! Dow...|Real Sh*t Right H...| 2015-08-31|\n",
            "|         US|   30704319|R3DEVUNGQ2Y98S|B014GWCW8K|     260814213|Without You (feat...|Digital_Music_Pur...|          5|            0|          0|   N|                Y|          Five Stars|      Press Forward!| 2015-08-31|\n",
            "+-----------+-----------+--------------+----------+--------------+--------------------+--------------------+-----------+-------------+-----------+----+-----------------+--------------------+--------------------+-----------+\n",
            "only showing top 20 rows\n",
            "\n"
          ],
          "name": "stdout"
        }
      ]
    },
    {
      "cell_type": "code",
      "metadata": {
        "id": "n4lPAG8DLq2w"
      },
      "source": [
        "from pyspark.sql.functions import to_date\n",
        "# Read in the Review dataset as a DataFrame\n",
        "dataframe = spark.read.csv(SparkFiles.get(\"amazon_reviews_us_Digital_Music_Purchase_v1_00.tsv.gz\"), sep=\",\", header=True)\n"
      ],
      "execution_count": 5,
      "outputs": []
    },
    {
      "cell_type": "code",
      "metadata": {
        "colab": {
          "base_uri": "https://localhost:8080/"
        },
        "id": "42hE0e9vL4Ov",
        "outputId": "7de1f1f8-f1dd-42c6-bddc-fe8288da4f41"
      },
      "source": [
        "# Create the vine_table. DataFrame\n",
        "vine_df = df.select([\"review_id\", \"star_rating\", \"helpful_votes\", \"total_votes\", \"vine\", \"verified_purchase\"])\n",
        "vine_df.show()"
      ],
      "execution_count": 6,
      "outputs": [
        {
          "output_type": "stream",
          "text": [
            "+--------------+-----------+-------------+-----------+----+-----------------+\n",
            "|     review_id|star_rating|helpful_votes|total_votes|vine|verified_purchase|\n",
            "+--------------+-----------+-------------+-----------+----+-----------------+\n",
            "|R14LVB34Z2Z53I|          5|            0|          0|   N|                Y|\n",
            "|R2M0R9CWPC82LT|          5|            0|          0|   N|                Y|\n",
            "| RQNQI2R3BM52A|          4|            0|          0|   N|                Y|\n",
            "| RTUIX1135HUAB|          5|            0|          0|   N|                Y|\n",
            "| RE3QSAT8TL010|          4|            0|          0|   N|                Y|\n",
            "|R14TN65IY0NUOD|          5|            0|          0|   N|                Y|\n",
            "|R3LIF8MCNH1ODF|          5|            0|          0|   N|                Y|\n",
            "|R33X0DGA4PPQ3L|          5|            3|          3|   N|                N|\n",
            "|R2DJJP7DQRT1ZW|          5|            0|          1|   N|                Y|\n",
            "|R2A8XDXW5XOT4H|          5|            0|          0|   N|                Y|\n",
            "|R3MJK3L7ER61TT|          5|            0|          0|   N|                N|\n",
            "|R38Z7XMCVDR0R5|          5|            1|          1|   N|                Y|\n",
            "|R3FFESBQXPR7S6|          4|            0|          0|   N|                Y|\n",
            "|R3QO6Z942CKH34|          5|            1|          1|   N|                Y|\n",
            "|R297119MDWMG9P|          5|            0|          0|   N|                Y|\n",
            "| R7EJRSXIXMLIY|          5|            0|          0|   N|                Y|\n",
            "|R2EBGPZD0B3TSV|          5|            0|          0|   N|                N|\n",
            "|R229VSSFBNB90C|          5|            0|          0|   N|                Y|\n",
            "|R12YCDYTDBJH3X|          5|            0|          0|   N|                Y|\n",
            "|R3DEVUNGQ2Y98S|          5|            0|          0|   N|                Y|\n",
            "+--------------+-----------+-------------+-----------+----+-----------------+\n",
            "only showing top 20 rows\n",
            "\n"
          ],
          "name": "stdout"
        }
      ]
    },
    {
      "cell_type": "code",
      "metadata": {
        "colab": {
          "base_uri": "https://localhost:8080/"
        },
        "id": "Wab8xMr4leFG",
        "outputId": "8600fffa-2542-4602-998b-371152026e49"
      },
      "source": [
        "vine_df = df.filter(\"total_votes>=20\")\n",
        "vine_df.show()"
      ],
      "execution_count": 7,
      "outputs": [
        {
          "output_type": "stream",
          "text": [
            "+-----------+-----------+--------------+----------+--------------+--------------------+--------------------+-----------+-------------+-----------+----+-----------------+--------------------+--------------------+-----------+\n",
            "|marketplace|customer_id|     review_id|product_id|product_parent|       product_title|    product_category|star_rating|helpful_votes|total_votes|vine|verified_purchase|     review_headline|         review_body|review_date|\n",
            "+-----------+-----------+--------------+----------+--------------+--------------------+--------------------+-----------+-------------+-----------+----+-----------------+--------------------+--------------------+-----------+\n",
            "|         US|   21585599|R1S0N56H5B9SUX|B00ZQKVD4Q|     550273770|        Live in Cuba|Digital_Music_Pur...|          5|           30|         30|   N|                Y|Excellent Jazz album|Excellent album. ...| 2015-08-31|\n",
            "|         US|   16227164| RCDI7Z8VCZJI9|B00YHTO1HS|     771772746|Badlands (Deluxe)...|Digital_Music_Pur...|          4|           40|         43|   N|                N|This Is What Owni...|I first heard Hal...| 2015-08-28|\n",
            "|         US|   51840199|R3F4225VTUO2WE|B00YI4B79W|     772368695|             Meliora|Digital_Music_Pur...|          1|            8|         33|   N|                N|Sounds like a Gra...|It is now exactly...| 2015-08-28|\n",
            "|         US|    2343013|  R3ADPNURCCTK|B0108UOO7Q|     915620099|Immortalized [Exp...|Digital_Music_Pur...|          1|            1|         39|   N|                N|            One Star|I was the biggest...| 2015-08-27|\n",
            "|         US|   13189348|R2LWBYC8TEUVF2|B00ZF3SIDI|     565883355|Nathaniel Ratelif...|Digital_Music_Pur...|          5|           50|         53|   N|                Y|Amazing! I discov...|Amazing!<br /><br...| 2015-08-26|\n",
            "|         US|   42571467|R23E4EIJXID5IC|B00PJUM34M|     736481072|   We Shall Overcome|Digital_Music_Pur...|          5|           43|         43|   N|                N|It's no \"Dark Sid...|If you put the al...| 2015-08-26|\n",
            "|         US|   13113713|R1WFSWDT8L5RSJ|B012JM8L6G|     881736409|     Burning Bridges|Digital_Music_Pur...|          4|           23|         26|   N|                N|Better than I exp...|Bon Jovi had a ro...| 2015-08-25|\n",
            "|         US|   43249739|R37LMHN02KOER1|B013L23ADM|     564719434|Just One Look: Cl...|Digital_Music_Pur...|          5|           50|         50|   N|                N|      Linda Times 30|Her millions of f...| 2015-08-25|\n",
            "|         US|   49116462|R297QI4VU3LMY6|B00YI4B79W|     772368695|             Meliora|Digital_Music_Pur...|          4|           41|         50|   N|                N|Not A Review For ...|So here's the thi...| 2015-08-24|\n",
            "|         US|   46942146| RGNU1L1XFX33B|B012JM8L6G|     881736409|     Burning Bridges|Digital_Music_Pur...|          3|           34|         35|   N|                N|and weren't good ...|If you look at an...| 2015-08-24|\n",
            "|         US|   14708731|R2NPE00F48X0ET|B00YI4B79W|     772368695|             Meliora|Digital_Music_Pur...|          5|           22|         27|   N|                N|From the Pinnacle...|Bands that wholly...| 2015-08-24|\n",
            "|         US|   13189971| RSPQFPJ4ISKS3|B00YI4B79W|     772368695|             Meliora|Digital_Music_Pur...|          5|           32|         35|   N|                Y|   I Love This Album|It's hard to know...| 2015-08-24|\n",
            "|         US|   49608184|R3U75LKYXVWRG8|B010XN0IQO|     818607997|As Family We Go (...|Digital_Music_Pur...|          3|           18|         23|   N|                Y|There must be a r...|Why does almost a...| 2015-08-23|\n",
            "|         US|   49907247|R2Z6WUTQEXJWCR|B0108UOO7Q|     915620099|Immortalized [Exp...|Digital_Music_Pur...|          5|           18|         20|   N|                Y|And the Heavy Met...|Immortalized is t...| 2015-08-23|\n",
            "|         US|    7487669|R140Z5HP12GL1E|B010S37LDM|     655317938|        High Country|Digital_Music_Pur...|          5|           47|         56|   N|                Y|A much better exp...|'High Country' is...| 2015-08-22|\n",
            "|         US|   49807829|R2WSVH9IPUO014|B013XBYSE6|     379064655|    All of the Stars|Digital_Music_Pur...|          1|            2|         37|   N|                N|          Sickening.|This is the worst...| 2015-08-22|\n",
            "|         US|   17026247|R25Q6S82PO8PHG|B0125KDCES|     826839790|The Oblivion Part...|Digital_Music_Pur...|          5|           23|         28|   N|                Y|If you liked the ...|SPOCK'S BEARD RET...| 2015-08-21|\n",
            "|         US|   17766147|R3HDJJN7YXFSYX|B0108UP3A8|     915620099|Immortalized (Del...|Digital_Music_Pur...|          1|            4|         58|   N|                N|SAME ALL BORING S...|DOWN TO THE BONE!...| 2015-08-21|\n",
            "|         US|   14929324|R18VNEEQLPQPPO|B00ZF3SIDI|     565883355|Nathaniel Ratelif...|Digital_Music_Pur...|          5|          146|        153|   N|                Y|Fun!  A must purc...|So there I am doz...| 2015-08-21|\n",
            "|         US|   14504100|R2KTDZKWNKNXPE|B013XBYSE6|     379064655|    All of the Stars|Digital_Music_Pur...|          5|           20|         22|   N|                Y|A meaningful song...|On this cover of ...| 2015-08-21|\n",
            "+-----------+-----------+--------------+----------+--------------+--------------------+--------------------+-----------+-------------+-----------+----+-----------------+--------------------+--------------------+-----------+\n",
            "only showing top 20 rows\n",
            "\n"
          ],
          "name": "stdout"
        }
      ]
    },
    {
      "cell_type": "code",
      "metadata": {
        "colab": {
          "base_uri": "https://localhost:8080/"
        },
        "id": "8fzHuIsvnfP9",
        "outputId": "6ff17183-8565-4d99-cb92-a7c15b08070b"
      },
      "source": [
        "vine_helpful_votes_df = vine_df.filter(\"helpful_votes/total_votes >= 0.5\")\n",
        "vine_helpful_votes_df.show()"
      ],
      "execution_count": 8,
      "outputs": [
        {
          "output_type": "stream",
          "text": [
            "+-----------+-----------+--------------+----------+--------------+--------------------+--------------------+-----------+-------------+-----------+----+-----------------+--------------------+--------------------+-----------+\n",
            "|marketplace|customer_id|     review_id|product_id|product_parent|       product_title|    product_category|star_rating|helpful_votes|total_votes|vine|verified_purchase|     review_headline|         review_body|review_date|\n",
            "+-----------+-----------+--------------+----------+--------------+--------------------+--------------------+-----------+-------------+-----------+----+-----------------+--------------------+--------------------+-----------+\n",
            "|         US|   21585599|R1S0N56H5B9SUX|B00ZQKVD4Q|     550273770|        Live in Cuba|Digital_Music_Pur...|          5|           30|         30|   N|                Y|Excellent Jazz album|Excellent album. ...| 2015-08-31|\n",
            "|         US|   16227164| RCDI7Z8VCZJI9|B00YHTO1HS|     771772746|Badlands (Deluxe)...|Digital_Music_Pur...|          4|           40|         43|   N|                N|This Is What Owni...|I first heard Hal...| 2015-08-28|\n",
            "|         US|   13189348|R2LWBYC8TEUVF2|B00ZF3SIDI|     565883355|Nathaniel Ratelif...|Digital_Music_Pur...|          5|           50|         53|   N|                Y|Amazing! I discov...|Amazing!<br /><br...| 2015-08-26|\n",
            "|         US|   42571467|R23E4EIJXID5IC|B00PJUM34M|     736481072|   We Shall Overcome|Digital_Music_Pur...|          5|           43|         43|   N|                N|It's no \"Dark Sid...|If you put the al...| 2015-08-26|\n",
            "|         US|   13113713|R1WFSWDT8L5RSJ|B012JM8L6G|     881736409|     Burning Bridges|Digital_Music_Pur...|          4|           23|         26|   N|                N|Better than I exp...|Bon Jovi had a ro...| 2015-08-25|\n",
            "|         US|   43249739|R37LMHN02KOER1|B013L23ADM|     564719434|Just One Look: Cl...|Digital_Music_Pur...|          5|           50|         50|   N|                N|      Linda Times 30|Her millions of f...| 2015-08-25|\n",
            "|         US|   49116462|R297QI4VU3LMY6|B00YI4B79W|     772368695|             Meliora|Digital_Music_Pur...|          4|           41|         50|   N|                N|Not A Review For ...|So here's the thi...| 2015-08-24|\n",
            "|         US|   46942146| RGNU1L1XFX33B|B012JM8L6G|     881736409|     Burning Bridges|Digital_Music_Pur...|          3|           34|         35|   N|                N|and weren't good ...|If you look at an...| 2015-08-24|\n",
            "|         US|   14708731|R2NPE00F48X0ET|B00YI4B79W|     772368695|             Meliora|Digital_Music_Pur...|          5|           22|         27|   N|                N|From the Pinnacle...|Bands that wholly...| 2015-08-24|\n",
            "|         US|   13189971| RSPQFPJ4ISKS3|B00YI4B79W|     772368695|             Meliora|Digital_Music_Pur...|          5|           32|         35|   N|                Y|   I Love This Album|It's hard to know...| 2015-08-24|\n",
            "|         US|   49608184|R3U75LKYXVWRG8|B010XN0IQO|     818607997|As Family We Go (...|Digital_Music_Pur...|          3|           18|         23|   N|                Y|There must be a r...|Why does almost a...| 2015-08-23|\n",
            "|         US|   49907247|R2Z6WUTQEXJWCR|B0108UOO7Q|     915620099|Immortalized [Exp...|Digital_Music_Pur...|          5|           18|         20|   N|                Y|And the Heavy Met...|Immortalized is t...| 2015-08-23|\n",
            "|         US|    7487669|R140Z5HP12GL1E|B010S37LDM|     655317938|        High Country|Digital_Music_Pur...|          5|           47|         56|   N|                Y|A much better exp...|'High Country' is...| 2015-08-22|\n",
            "|         US|   17026247|R25Q6S82PO8PHG|B0125KDCES|     826839790|The Oblivion Part...|Digital_Music_Pur...|          5|           23|         28|   N|                Y|If you liked the ...|SPOCK'S BEARD RET...| 2015-08-21|\n",
            "|         US|   14929324|R18VNEEQLPQPPO|B00ZF3SIDI|     565883355|Nathaniel Ratelif...|Digital_Music_Pur...|          5|          146|        153|   N|                Y|Fun!  A must purc...|So there I am doz...| 2015-08-21|\n",
            "|         US|   14504100|R2KTDZKWNKNXPE|B013XBYSE6|     379064655|    All of the Stars|Digital_Music_Pur...|          5|           20|         22|   N|                Y|A meaningful song...|On this cover of ...| 2015-08-21|\n",
            "|         US|   44131062|R1T2DZ27VMFSDV|B013XBYSE6|     379064655|    All of the Stars|Digital_Music_Pur...|          5|           18|         21|   N|                N|Jackie does it ag...|This song is a mu...| 2015-08-21|\n",
            "|         US|   17493933|R1L9S1598FPFFG|B0108UP3A8|     915620099|Immortalized (Del...|Digital_Music_Pur...|          5|           28|         33|   N|                Y|Fantastic Return ...|A fantastic retur...| 2015-08-21|\n",
            "|         US|   21644414|R1C9BQD9AA2C76|B0108UP3A8|     915620099|Immortalized (Del...|Digital_Music_Pur...|          5|           50|         53|   N|                Y|Killer Comeback f...|Excellent come ba...| 2015-08-21|\n",
            "|         US|   52912029| RXNMSLZ3KAT95|B00PJUM34M|     736481072|   We Shall Overcome|Digital_Music_Pur...|          5|           24|         25|   N|                Y|This is THE messa...|We have here an e...| 2015-08-21|\n",
            "+-----------+-----------+--------------+----------+--------------+--------------------+--------------------+-----------+-------------+-----------+----+-----------------+--------------------+--------------------+-----------+\n",
            "only showing top 20 rows\n",
            "\n"
          ],
          "name": "stdout"
        }
      ]
    },
    {
      "cell_type": "code",
      "metadata": {
        "colab": {
          "base_uri": "https://localhost:8080/"
        },
        "id": "yOGGw52uqkhw",
        "outputId": "c0cd87e0-c2c0-4f3d-9775-735b5fa47100"
      },
      "source": [
        "vine_paid_df = vine_helpful_votes_df.filter(\"vine == 'Y'\")\n",
        "vine_paid_df.show()"
      ],
      "execution_count": 9,
      "outputs": [
        {
          "output_type": "stream",
          "text": [
            "+-----------+-----------+---------+----------+--------------+-------------+----------------+-----------+-------------+-----------+----+-----------------+---------------+-----------+-----------+\n",
            "|marketplace|customer_id|review_id|product_id|product_parent|product_title|product_category|star_rating|helpful_votes|total_votes|vine|verified_purchase|review_headline|review_body|review_date|\n",
            "+-----------+-----------+---------+----------+--------------+-------------+----------------+-----------+-------------+-----------+----+-----------------+---------------+-----------+-----------+\n",
            "+-----------+-----------+---------+----------+--------------+-------------+----------------+-----------+-------------+-----------+----+-----------------+---------------+-----------+-----------+\n",
            "\n"
          ],
          "name": "stdout"
        }
      ]
    },
    {
      "cell_type": "code",
      "metadata": {
        "colab": {
          "base_uri": "https://localhost:8080/"
        },
        "id": "tidyLpPWcY2v",
        "outputId": "f77636f6-3af0-4328-8ebd-466d11f20539"
      },
      "source": [
        "vine_unpaid_df = vine_helpful_votes_df.filter(\"vine == 'N'\")\n",
        "vine_unpaid_df.show()"
      ],
      "execution_count": 10,
      "outputs": [
        {
          "output_type": "stream",
          "text": [
            "+-----------+-----------+--------------+----------+--------------+--------------------+--------------------+-----------+-------------+-----------+----+-----------------+--------------------+--------------------+-----------+\n",
            "|marketplace|customer_id|     review_id|product_id|product_parent|       product_title|    product_category|star_rating|helpful_votes|total_votes|vine|verified_purchase|     review_headline|         review_body|review_date|\n",
            "+-----------+-----------+--------------+----------+--------------+--------------------+--------------------+-----------+-------------+-----------+----+-----------------+--------------------+--------------------+-----------+\n",
            "|         US|   21585599|R1S0N56H5B9SUX|B00ZQKVD4Q|     550273770|        Live in Cuba|Digital_Music_Pur...|          5|           30|         30|   N|                Y|Excellent Jazz album|Excellent album. ...| 2015-08-31|\n",
            "|         US|   16227164| RCDI7Z8VCZJI9|B00YHTO1HS|     771772746|Badlands (Deluxe)...|Digital_Music_Pur...|          4|           40|         43|   N|                N|This Is What Owni...|I first heard Hal...| 2015-08-28|\n",
            "|         US|   13189348|R2LWBYC8TEUVF2|B00ZF3SIDI|     565883355|Nathaniel Ratelif...|Digital_Music_Pur...|          5|           50|         53|   N|                Y|Amazing! I discov...|Amazing!<br /><br...| 2015-08-26|\n",
            "|         US|   42571467|R23E4EIJXID5IC|B00PJUM34M|     736481072|   We Shall Overcome|Digital_Music_Pur...|          5|           43|         43|   N|                N|It's no \"Dark Sid...|If you put the al...| 2015-08-26|\n",
            "|         US|   13113713|R1WFSWDT8L5RSJ|B012JM8L6G|     881736409|     Burning Bridges|Digital_Music_Pur...|          4|           23|         26|   N|                N|Better than I exp...|Bon Jovi had a ro...| 2015-08-25|\n",
            "|         US|   43249739|R37LMHN02KOER1|B013L23ADM|     564719434|Just One Look: Cl...|Digital_Music_Pur...|          5|           50|         50|   N|                N|      Linda Times 30|Her millions of f...| 2015-08-25|\n",
            "|         US|   49116462|R297QI4VU3LMY6|B00YI4B79W|     772368695|             Meliora|Digital_Music_Pur...|          4|           41|         50|   N|                N|Not A Review For ...|So here's the thi...| 2015-08-24|\n",
            "|         US|   46942146| RGNU1L1XFX33B|B012JM8L6G|     881736409|     Burning Bridges|Digital_Music_Pur...|          3|           34|         35|   N|                N|and weren't good ...|If you look at an...| 2015-08-24|\n",
            "|         US|   14708731|R2NPE00F48X0ET|B00YI4B79W|     772368695|             Meliora|Digital_Music_Pur...|          5|           22|         27|   N|                N|From the Pinnacle...|Bands that wholly...| 2015-08-24|\n",
            "|         US|   13189971| RSPQFPJ4ISKS3|B00YI4B79W|     772368695|             Meliora|Digital_Music_Pur...|          5|           32|         35|   N|                Y|   I Love This Album|It's hard to know...| 2015-08-24|\n",
            "|         US|   49608184|R3U75LKYXVWRG8|B010XN0IQO|     818607997|As Family We Go (...|Digital_Music_Pur...|          3|           18|         23|   N|                Y|There must be a r...|Why does almost a...| 2015-08-23|\n",
            "|         US|   49907247|R2Z6WUTQEXJWCR|B0108UOO7Q|     915620099|Immortalized [Exp...|Digital_Music_Pur...|          5|           18|         20|   N|                Y|And the Heavy Met...|Immortalized is t...| 2015-08-23|\n",
            "|         US|    7487669|R140Z5HP12GL1E|B010S37LDM|     655317938|        High Country|Digital_Music_Pur...|          5|           47|         56|   N|                Y|A much better exp...|'High Country' is...| 2015-08-22|\n",
            "|         US|   17026247|R25Q6S82PO8PHG|B0125KDCES|     826839790|The Oblivion Part...|Digital_Music_Pur...|          5|           23|         28|   N|                Y|If you liked the ...|SPOCK'S BEARD RET...| 2015-08-21|\n",
            "|         US|   14929324|R18VNEEQLPQPPO|B00ZF3SIDI|     565883355|Nathaniel Ratelif...|Digital_Music_Pur...|          5|          146|        153|   N|                Y|Fun!  A must purc...|So there I am doz...| 2015-08-21|\n",
            "|         US|   14504100|R2KTDZKWNKNXPE|B013XBYSE6|     379064655|    All of the Stars|Digital_Music_Pur...|          5|           20|         22|   N|                Y|A meaningful song...|On this cover of ...| 2015-08-21|\n",
            "|         US|   44131062|R1T2DZ27VMFSDV|B013XBYSE6|     379064655|    All of the Stars|Digital_Music_Pur...|          5|           18|         21|   N|                N|Jackie does it ag...|This song is a mu...| 2015-08-21|\n",
            "|         US|   17493933|R1L9S1598FPFFG|B0108UP3A8|     915620099|Immortalized (Del...|Digital_Music_Pur...|          5|           28|         33|   N|                Y|Fantastic Return ...|A fantastic retur...| 2015-08-21|\n",
            "|         US|   21644414|R1C9BQD9AA2C76|B0108UP3A8|     915620099|Immortalized (Del...|Digital_Music_Pur...|          5|           50|         53|   N|                Y|Killer Comeback f...|Excellent come ba...| 2015-08-21|\n",
            "|         US|   52912029| RXNMSLZ3KAT95|B00PJUM34M|     736481072|   We Shall Overcome|Digital_Music_Pur...|          5|           24|         25|   N|                Y|This is THE messa...|We have here an e...| 2015-08-21|\n",
            "+-----------+-----------+--------------+----------+--------------+--------------------+--------------------+-----------+-------------+-----------+----+-----------------+--------------------+--------------------+-----------+\n",
            "only showing top 20 rows\n",
            "\n"
          ],
          "name": "stdout"
        }
      ]
    },
    {
      "cell_type": "code",
      "metadata": {
        "colab": {
          "base_uri": "https://localhost:8080/"
        },
        "id": "ThJ3qXjpvXBf",
        "outputId": "7da98b1e-c803-4f90-f75a-4d37a9902bfe"
      },
      "source": [
        "vine_unpaid_rating_df = vine_unpaid_df.filter(\"star_rating>=5\").show()"
      ],
      "execution_count": 31,
      "outputs": [
        {
          "output_type": "stream",
          "text": [
            "+-----------+-----------+--------------+----------+--------------+--------------------+--------------------+-----------+-------------+-----------+----+-----------------+--------------------+--------------------+-----------+\n",
            "|marketplace|customer_id|     review_id|product_id|product_parent|       product_title|    product_category|star_rating|helpful_votes|total_votes|vine|verified_purchase|     review_headline|         review_body|review_date|\n",
            "+-----------+-----------+--------------+----------+--------------+--------------------+--------------------+-----------+-------------+-----------+----+-----------------+--------------------+--------------------+-----------+\n",
            "|         US|   21585599|R1S0N56H5B9SUX|B00ZQKVD4Q|     550273770|        Live in Cuba|Digital_Music_Pur...|          5|           30|         30|   N|                Y|Excellent Jazz album|Excellent album. ...| 2015-08-31|\n",
            "|         US|   13189348|R2LWBYC8TEUVF2|B00ZF3SIDI|     565883355|Nathaniel Ratelif...|Digital_Music_Pur...|          5|           50|         53|   N|                Y|Amazing! I discov...|Amazing!<br /><br...| 2015-08-26|\n",
            "|         US|   42571467|R23E4EIJXID5IC|B00PJUM34M|     736481072|   We Shall Overcome|Digital_Music_Pur...|          5|           43|         43|   N|                N|It's no \"Dark Sid...|If you put the al...| 2015-08-26|\n",
            "|         US|   43249739|R37LMHN02KOER1|B013L23ADM|     564719434|Just One Look: Cl...|Digital_Music_Pur...|          5|           50|         50|   N|                N|      Linda Times 30|Her millions of f...| 2015-08-25|\n",
            "|         US|   14708731|R2NPE00F48X0ET|B00YI4B79W|     772368695|             Meliora|Digital_Music_Pur...|          5|           22|         27|   N|                N|From the Pinnacle...|Bands that wholly...| 2015-08-24|\n",
            "|         US|   13189971| RSPQFPJ4ISKS3|B00YI4B79W|     772368695|             Meliora|Digital_Music_Pur...|          5|           32|         35|   N|                Y|   I Love This Album|It's hard to know...| 2015-08-24|\n",
            "|         US|   49907247|R2Z6WUTQEXJWCR|B0108UOO7Q|     915620099|Immortalized [Exp...|Digital_Music_Pur...|          5|           18|         20|   N|                Y|And the Heavy Met...|Immortalized is t...| 2015-08-23|\n",
            "|         US|    7487669|R140Z5HP12GL1E|B010S37LDM|     655317938|        High Country|Digital_Music_Pur...|          5|           47|         56|   N|                Y|A much better exp...|'High Country' is...| 2015-08-22|\n",
            "|         US|   17026247|R25Q6S82PO8PHG|B0125KDCES|     826839790|The Oblivion Part...|Digital_Music_Pur...|          5|           23|         28|   N|                Y|If you liked the ...|SPOCK'S BEARD RET...| 2015-08-21|\n",
            "|         US|   14929324|R18VNEEQLPQPPO|B00ZF3SIDI|     565883355|Nathaniel Ratelif...|Digital_Music_Pur...|          5|          146|        153|   N|                Y|Fun!  A must purc...|So there I am doz...| 2015-08-21|\n",
            "|         US|   14504100|R2KTDZKWNKNXPE|B013XBYSE6|     379064655|    All of the Stars|Digital_Music_Pur...|          5|           20|         22|   N|                Y|A meaningful song...|On this cover of ...| 2015-08-21|\n",
            "|         US|   44131062|R1T2DZ27VMFSDV|B013XBYSE6|     379064655|    All of the Stars|Digital_Music_Pur...|          5|           18|         21|   N|                N|Jackie does it ag...|This song is a mu...| 2015-08-21|\n",
            "|         US|   17493933|R1L9S1598FPFFG|B0108UP3A8|     915620099|Immortalized (Del...|Digital_Music_Pur...|          5|           28|         33|   N|                Y|Fantastic Return ...|A fantastic retur...| 2015-08-21|\n",
            "|         US|   21644414|R1C9BQD9AA2C76|B0108UP3A8|     915620099|Immortalized (Del...|Digital_Music_Pur...|          5|           50|         53|   N|                Y|Killer Comeback f...|Excellent come ba...| 2015-08-21|\n",
            "|         US|   52912029| RXNMSLZ3KAT95|B00PJUM34M|     736481072|   We Shall Overcome|Digital_Music_Pur...|          5|           24|         25|   N|                Y|This is THE messa...|We have here an e...| 2015-08-21|\n",
            "|         US|   52824002|R15MAEIN2W5L87|B00ZQCYBM0|     541544752|True Detective (M...|Digital_Music_Pur...|          5|           35|         38|   N|                Y|I Had To Leave My...|'I was not caught...| 2015-08-17|\n",
            "|         US|    7545684|R3TSH95MIRAKT8|B011TSXCZ6|     957775137| Cry Baby [Explicit]|Digital_Music_Pur...|          5|           36|         41|   N|                N|     A Dark Surprise|I don't usually b...| 2015-08-14|\n",
            "|         US|    2515834|R30ULW5SGGEQ46|B011TSXCZ6|     957775137| Cry Baby [Explicit]|Digital_Music_Pur...|          5|           25|         30|   N|                N|Best Album In a L...|One of the best a...| 2015-08-14|\n",
            "|         US|   46716294|R2EP3ML2KOM79A|B00YIB3XG0|     320964264|This Is Not A Tes...|Digital_Music_Pur...|          5|           22|         22|   N|                N|Toby Mac Delivers...|This is Toby Mac’...| 2015-08-08|\n",
            "|         US|   32774641|R3IIGLHK70C8HL|B011VYF23I|     804266474|Ricki And The Fla...|Digital_Music_Pur...|          5|           18|         22|   N|                N|The soundtrack to...|The soundtrack to...| 2015-08-08|\n",
            "+-----------+-----------+--------------+----------+--------------+--------------------+--------------------+-----------+-------------+-----------+----+-----------------+--------------------+--------------------+-----------+\n",
            "only showing top 20 rows\n",
            "\n"
          ],
          "name": "stdout"
        }
      ]
    },
    {
      "cell_type": "code",
      "metadata": {
        "id": "bEBKCN5OqfVC"
      },
      "source": [
        "paid_total_reviews\n"
      ],
      "execution_count": 32,
      "outputs": []
    },
    {
      "cell_type": "code",
      "metadata": {
        "id": "Acu5cVadGyXg"
      },
      "source": [
        "unpaid_total_reviews"
      ],
      "execution_count": null,
      "outputs": []
    },
    {
      "cell_type": "code",
      "metadata": {
        "colab": {
          "base_uri": "https://localhost:8080/",
          "height": 164
        },
        "id": "QI21YfUNGyCH",
        "outputId": "a2a5ce55-31d6-4146-e8f2-26255fb9eca4"
      },
      "source": [
        "paid_percent_reviews = paid_rating_reviews/paid_total_reviews * 100"
      ],
      "execution_count": 33,
      "outputs": [
        {
          "output_type": "error",
          "ename": "NameError",
          "evalue": "ignored",
          "traceback": [
            "\u001b[0;31m---------------------------------------------------------------------------\u001b[0m",
            "\u001b[0;31mNameError\u001b[0m                                 Traceback (most recent call last)",
            "\u001b[0;32m<ipython-input-33-2b1ca61d840e>\u001b[0m in \u001b[0;36m<module>\u001b[0;34m()\u001b[0m\n\u001b[0;32m----> 1\u001b[0;31m \u001b[0mpaid_percent_reviews\u001b[0m \u001b[0;34m=\u001b[0m \u001b[0mpaid_rating_reviews\u001b[0m\u001b[0;34m/\u001b[0m\u001b[0mpaid_total_reviews\u001b[0m \u001b[0;34m*\u001b[0m \u001b[0;36m100\u001b[0m\u001b[0;34m\u001b[0m\u001b[0;34m\u001b[0m\u001b[0m\n\u001b[0m",
            "\u001b[0;31mNameError\u001b[0m: name 'paid_rating_reviews' is not defined"
          ]
        }
      ]
    },
    {
      "cell_type": "code",
      "metadata": {
        "id": "n7KQctLcBfKP"
      },
      "source": [
        "unpaid_percent_reviews = unpaid_rating_reviews/unpaid_total_reviews * 100"
      ],
      "execution_count": null,
      "outputs": []
    }
  ]
}